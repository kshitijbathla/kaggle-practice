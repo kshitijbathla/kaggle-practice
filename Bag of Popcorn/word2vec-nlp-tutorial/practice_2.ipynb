{
 "cells": [
  {
   "cell_type": "code",
   "execution_count": 2,
   "metadata": {},
   "outputs": [
    {
     "name": "stdout",
     "output_type": "stream",
     "text": [
      "Read 25000 labeled train reviews, 25000 labeled test reviews, and 50000 unlabeled reviews\n",
      "\n"
     ]
    }
   ],
   "source": [
    "import pandas as pd\n",
    "\n",
    "# Read data from files \n",
    "train = pd.read_csv( \"labeledTrainData.tsv\", header=0, \n",
    " delimiter=\"\\t\", quoting=3 )\n",
    "test = pd.read_csv( \"testData.tsv\", header=0, delimiter=\"\\t\", quoting=3 )\n",
    "unlabeled_train = pd.read_csv( \"unlabeledTrainData.tsv\", header=0, \n",
    " delimiter=\"\\t\", quoting=3 )\n",
    "\n",
    "# Verify the number of reviews that were read (100,000 in total)\n",
    "print(\"Read %d labeled train reviews, %d labeled test reviews, \" \\\n",
    " \"and %d unlabeled reviews\\n\" % (train[\"review\"].size,  \n",
    " test[\"review\"].size, unlabeled_train[\"review\"].size ))"
   ]
  },
  {
   "cell_type": "code",
   "execution_count": 3,
   "metadata": {},
   "outputs": [],
   "source": [
    "# Import various modules for string cleaning\n",
    "from bs4 import BeautifulSoup\n",
    "import re\n",
    "from nltk.corpus import stopwords\n",
    "\n",
    "def review_to_wordlist( review, remove_stopwords=False ):\n",
    "    # Function to convert a document to a sequence of words,\n",
    "    # optionally removing stop words.  Returns a list of words.\n",
    "    #\n",
    "    # 1. Remove HTML\n",
    "    review_text = BeautifulSoup(review).get_text()\n",
    "    #  \n",
    "    # 2. Remove non-letters\n",
    "    review_text = re.sub(\"[^a-zA-Z]\",\" \", review_text)\n",
    "    #\n",
    "    # 3. Convert words to lower case and split them\n",
    "    words = review_text.lower().split()\n",
    "    #\n",
    "    # 4. Optionally remove stop words (false by default)\n",
    "    if remove_stopwords:\n",
    "        stops = set(stopwords.words(\"english\"))\n",
    "        words = [w for w in words if not w in stops]\n",
    "    #\n",
    "    # 5. Return a list of words\n",
    "    return(words)"
   ]
  },
  {
   "cell_type": "code",
   "execution_count": 5,
   "metadata": {},
   "outputs": [],
   "source": [
    "import nltk\n",
    "tokenizer = nltk.data.load('tokenizers/punkt/english.pickle')"
   ]
  },
  {
   "cell_type": "code",
   "execution_count": 6,
   "metadata": {},
   "outputs": [],
   "source": [
    "# Define a function to split a review into parsed sentences\n",
    "def review_to_sentences( review, tokenizer, remove_stopwords=False ):\n",
    "    # Function to split a review into parsed sentences. Returns a \n",
    "    # list of sentences, where each sentence is a list of words\n",
    "    #\n",
    "    # 1. Use the NLTK tokenizer to split the paragraph into sentences\n",
    "    raw_sentences = tokenizer.tokenize(review.strip())\n",
    "    #\n",
    "    # 2. Loop over each sentence\n",
    "    sentences = []\n",
    "    for raw_sentence in raw_sentences:\n",
    "        # If a sentence is empty, skip it\n",
    "        if len(raw_sentence) > 0:\n",
    "            # Otherwise, call review_to_wordlist to get a list of words\n",
    "            sentences.append( review_to_wordlist( raw_sentence, \\\n",
    "              remove_stopwords ))\n",
    "    #\n",
    "    # Return the list of sentences (each sentence is a list of words,\n",
    "    # so this returns a list of lists\n",
    "    return sentences"
   ]
  },
  {
   "cell_type": "code",
   "execution_count": 7,
   "metadata": {
    "scrolled": true
   },
   "outputs": [
    {
     "name": "stdout",
     "output_type": "stream",
     "text": [
      "Parsing sentences from training set\n"
     ]
    },
    {
     "name": "stderr",
     "output_type": "stream",
     "text": [
      "/Users/kshitij/Desktop/kaggle/kaggle-practice/env/lib/python3.7/site-packages/bs4/__init__.py:294: UserWarning: \"b'.'\" looks like a filename, not markup. You should probably open this file and pass the filehandle into Beautiful Soup.\n",
      "  ' Beautiful Soup.' % markup)\n",
      "/Users/kshitij/Desktop/kaggle/kaggle-practice/env/lib/python3.7/site-packages/bs4/__init__.py:357: UserWarning: \"http://www.happierabroad.com\"\" looks like a URL. Beautiful Soup is not an HTTP client. You should probably use an HTTP client like requests to get the document behind the URL, and feed that document to Beautiful Soup.\n",
      "  ' that document to Beautiful Soup.' % decoded_markup\n"
     ]
    },
    {
     "name": "stdout",
     "output_type": "stream",
     "text": [
      "Parsing sentences from unlabeled set\n"
     ]
    },
    {
     "name": "stderr",
     "output_type": "stream",
     "text": [
      "/Users/kshitij/Desktop/kaggle/kaggle-practice/env/lib/python3.7/site-packages/bs4/__init__.py:357: UserWarning: \"http://www.archive.org/details/LovefromaStranger\"\" looks like a URL. Beautiful Soup is not an HTTP client. You should probably use an HTTP client like requests to get the document behind the URL, and feed that document to Beautiful Soup.\n",
      "  ' that document to Beautiful Soup.' % decoded_markup\n",
      "/Users/kshitij/Desktop/kaggle/kaggle-practice/env/lib/python3.7/site-packages/bs4/__init__.py:357: UserWarning: \"http://www.loosechangeguide.com/LooseChangeGuide.html\"\" looks like a URL. Beautiful Soup is not an HTTP client. You should probably use an HTTP client like requests to get the document behind the URL, and feed that document to Beautiful Soup.\n",
      "  ' that document to Beautiful Soup.' % decoded_markup\n",
      "/Users/kshitij/Desktop/kaggle/kaggle-practice/env/lib/python3.7/site-packages/bs4/__init__.py:357: UserWarning: \"http://www.msnbc.msn.com/id/4972055/site/newsweek/\"\" looks like a URL. Beautiful Soup is not an HTTP client. You should probably use an HTTP client like requests to get the document behind the URL, and feed that document to Beautiful Soup.\n",
      "  ' that document to Beautiful Soup.' % decoded_markup\n",
      "/Users/kshitij/Desktop/kaggle/kaggle-practice/env/lib/python3.7/site-packages/bs4/__init__.py:294: UserWarning: \"b'..'\" looks like a filename, not markup. You should probably open this file and pass the filehandle into Beautiful Soup.\n",
      "  ' Beautiful Soup.' % markup)\n",
      "/Users/kshitij/Desktop/kaggle/kaggle-practice/env/lib/python3.7/site-packages/bs4/__init__.py:357: UserWarning: \"http://www.youtube.com/watch?v=a0KSqelmgN8\"\" looks like a URL. Beautiful Soup is not an HTTP client. You should probably use an HTTP client like requests to get the document behind the URL, and feed that document to Beautiful Soup.\n",
      "  ' that document to Beautiful Soup.' % decoded_markup\n",
      "/Users/kshitij/Desktop/kaggle/kaggle-practice/env/lib/python3.7/site-packages/bs4/__init__.py:357: UserWarning: \"http://jake-weird.blogspot.com/2007/08/beneath.html\"\" looks like a URL. Beautiful Soup is not an HTTP client. You should probably use an HTTP client like requests to get the document behind the URL, and feed that document to Beautiful Soup.\n",
      "  ' that document to Beautiful Soup.' % decoded_markup\n"
     ]
    }
   ],
   "source": [
    "sentences = []  # Initialize an empty list of sentences\n",
    "\n",
    "print(\"Parsing sentences from training set\")\n",
    "for review in train[\"review\"]:\n",
    "    sentences += review_to_sentences(review, tokenizer)\n",
    "\n",
    "print(\"Parsing sentences from unlabeled set\")\n",
    "for review in unlabeled_train[\"review\"]:\n",
    "    sentences += review_to_sentences(review, tokenizer)"
   ]
  },
  {
   "cell_type": "code",
   "execution_count": 9,
   "metadata": {},
   "outputs": [
    {
     "name": "stdout",
     "output_type": "stream",
     "text": [
      "795538\n"
     ]
    }
   ],
   "source": [
    "print(len(sentences))"
   ]
  },
  {
   "cell_type": "code",
   "execution_count": 10,
   "metadata": {},
   "outputs": [
    {
     "name": "stdout",
     "output_type": "stream",
     "text": [
      "['with', 'all', 'this', 'stuff', 'going', 'down', 'at', 'the', 'moment', 'with', 'mj', 'i', 've', 'started', 'listening', 'to', 'his', 'music', 'watching', 'the', 'odd', 'documentary', 'here', 'and', 'there', 'watched', 'the', 'wiz', 'and', 'watched', 'moonwalker', 'again']\n"
     ]
    }
   ],
   "source": [
    "print(sentences[0])"
   ]
  },
  {
   "cell_type": "code",
   "execution_count": 12,
   "metadata": {
    "scrolled": true
   },
   "outputs": [
    {
     "name": "stderr",
     "output_type": "stream",
     "text": [
      "2019-07-28 17:26:19,537 : INFO : 'pattern' package not found; tag filters are not available for English\n",
      "2019-07-28 17:26:19,541 : INFO : collecting all words and their counts\n",
      "2019-07-28 17:26:19,542 : INFO : PROGRESS: at sentence #0, processed 0 words, keeping 0 word types\n",
      "2019-07-28 17:26:19,581 : INFO : PROGRESS: at sentence #10000, processed 225803 words, keeping 17776 word types\n",
      "2019-07-28 17:26:19,618 : INFO : PROGRESS: at sentence #20000, processed 451892 words, keeping 24948 word types\n",
      "2019-07-28 17:26:19,656 : INFO : PROGRESS: at sentence #30000, processed 671314 words, keeping 30034 word types\n",
      "2019-07-28 17:26:19,694 : INFO : PROGRESS: at sentence #40000, processed 897814 words, keeping 34348 word types\n",
      "2019-07-28 17:26:19,730 : INFO : PROGRESS: at sentence #50000, processed 1116962 words, keeping 37761 word types\n"
     ]
    },
    {
     "name": "stdout",
     "output_type": "stream",
     "text": [
      "Training model...\n"
     ]
    },
    {
     "name": "stderr",
     "output_type": "stream",
     "text": [
      "2019-07-28 17:26:19,768 : INFO : PROGRESS: at sentence #60000, processed 1338403 words, keeping 40723 word types\n",
      "2019-07-28 17:26:19,805 : INFO : PROGRESS: at sentence #70000, processed 1561579 words, keeping 43333 word types\n",
      "2019-07-28 17:26:19,847 : INFO : PROGRESS: at sentence #80000, processed 1780886 words, keeping 45714 word types\n",
      "2019-07-28 17:26:19,888 : INFO : PROGRESS: at sentence #90000, processed 2004995 words, keeping 48135 word types\n",
      "2019-07-28 17:26:19,928 : INFO : PROGRESS: at sentence #100000, processed 2226966 words, keeping 50207 word types\n",
      "2019-07-28 17:26:19,969 : INFO : PROGRESS: at sentence #110000, processed 2446580 words, keeping 52081 word types\n",
      "2019-07-28 17:26:20,011 : INFO : PROGRESS: at sentence #120000, processed 2668775 words, keeping 54119 word types\n",
      "2019-07-28 17:26:20,052 : INFO : PROGRESS: at sentence #130000, processed 2894303 words, keeping 55847 word types\n",
      "2019-07-28 17:26:20,092 : INFO : PROGRESS: at sentence #140000, processed 3107005 words, keeping 57346 word types\n",
      "2019-07-28 17:26:20,134 : INFO : PROGRESS: at sentence #150000, processed 3332627 words, keeping 59055 word types\n",
      "2019-07-28 17:26:20,174 : INFO : PROGRESS: at sentence #160000, processed 3555315 words, keeping 60617 word types\n",
      "2019-07-28 17:26:20,216 : INFO : PROGRESS: at sentence #170000, processed 3778655 words, keeping 62077 word types\n",
      "2019-07-28 17:26:20,257 : INFO : PROGRESS: at sentence #180000, processed 3999236 words, keeping 63496 word types\n",
      "2019-07-28 17:26:20,298 : INFO : PROGRESS: at sentence #190000, processed 4224449 words, keeping 64794 word types\n",
      "2019-07-28 17:26:20,338 : INFO : PROGRESS: at sentence #200000, processed 4448603 words, keeping 66087 word types\n",
      "2019-07-28 17:26:20,378 : INFO : PROGRESS: at sentence #210000, processed 4669967 words, keeping 67390 word types\n",
      "2019-07-28 17:26:20,421 : INFO : PROGRESS: at sentence #220000, processed 4894968 words, keeping 68697 word types\n",
      "2019-07-28 17:26:20,464 : INFO : PROGRESS: at sentence #230000, processed 5117546 words, keeping 69958 word types\n",
      "2019-07-28 17:26:20,508 : INFO : PROGRESS: at sentence #240000, processed 5345051 words, keeping 71167 word types\n",
      "2019-07-28 17:26:20,548 : INFO : PROGRESS: at sentence #250000, processed 5559166 words, keeping 72351 word types\n",
      "2019-07-28 17:26:20,589 : INFO : PROGRESS: at sentence #260000, processed 5779147 words, keeping 73478 word types\n",
      "2019-07-28 17:26:20,631 : INFO : PROGRESS: at sentence #270000, processed 6000436 words, keeping 74767 word types\n",
      "2019-07-28 17:26:20,672 : INFO : PROGRESS: at sentence #280000, processed 6226315 words, keeping 76369 word types\n",
      "2019-07-28 17:26:20,714 : INFO : PROGRESS: at sentence #290000, processed 6449475 words, keeping 77839 word types\n",
      "2019-07-28 17:26:20,755 : INFO : PROGRESS: at sentence #300000, processed 6674078 words, keeping 79171 word types\n",
      "2019-07-28 17:26:20,796 : INFO : PROGRESS: at sentence #310000, processed 6899392 words, keeping 80480 word types\n",
      "2019-07-28 17:26:20,837 : INFO : PROGRESS: at sentence #320000, processed 7124279 words, keeping 81808 word types\n",
      "2019-07-28 17:26:20,877 : INFO : PROGRESS: at sentence #330000, processed 7346022 words, keeping 83030 word types\n",
      "2019-07-28 17:26:20,920 : INFO : PROGRESS: at sentence #340000, processed 7575534 words, keeping 84280 word types\n",
      "2019-07-28 17:26:20,963 : INFO : PROGRESS: at sentence #350000, processed 7798804 words, keeping 85425 word types\n",
      "2019-07-28 17:26:21,005 : INFO : PROGRESS: at sentence #360000, processed 8019467 words, keeping 86596 word types\n",
      "2019-07-28 17:26:21,053 : INFO : PROGRESS: at sentence #370000, processed 8246659 words, keeping 87708 word types\n",
      "2019-07-28 17:26:21,094 : INFO : PROGRESS: at sentence #380000, processed 8471806 words, keeping 88878 word types\n",
      "2019-07-28 17:26:21,137 : INFO : PROGRESS: at sentence #390000, processed 8701556 words, keeping 89907 word types\n",
      "2019-07-28 17:26:21,179 : INFO : PROGRESS: at sentence #400000, processed 8924505 words, keeping 90916 word types\n",
      "2019-07-28 17:26:21,221 : INFO : PROGRESS: at sentence #410000, processed 9145855 words, keeping 91880 word types\n",
      "2019-07-28 17:26:21,263 : INFO : PROGRESS: at sentence #420000, processed 9366935 words, keeping 92912 word types\n",
      "2019-07-28 17:26:21,308 : INFO : PROGRESS: at sentence #430000, processed 9594472 words, keeping 93932 word types\n",
      "2019-07-28 17:26:21,351 : INFO : PROGRESS: at sentence #440000, processed 9821225 words, keeping 94906 word types\n",
      "2019-07-28 17:26:21,392 : INFO : PROGRESS: at sentence #450000, processed 10044987 words, keeping 96036 word types\n",
      "2019-07-28 17:26:21,437 : INFO : PROGRESS: at sentence #460000, processed 10277747 words, keeping 97088 word types\n",
      "2019-07-28 17:26:21,479 : INFO : PROGRESS: at sentence #470000, processed 10505672 words, keeping 97933 word types\n",
      "2019-07-28 17:26:21,521 : INFO : PROGRESS: at sentence #480000, processed 10726056 words, keeping 98862 word types\n",
      "2019-07-28 17:26:21,564 : INFO : PROGRESS: at sentence #490000, processed 10952800 words, keeping 99871 word types\n",
      "2019-07-28 17:26:21,606 : INFO : PROGRESS: at sentence #500000, processed 11174456 words, keeping 100765 word types\n",
      "2019-07-28 17:26:21,648 : INFO : PROGRESS: at sentence #510000, processed 11399731 words, keeping 101699 word types\n",
      "2019-07-28 17:26:21,693 : INFO : PROGRESS: at sentence #520000, processed 11623082 words, keeping 102598 word types\n",
      "2019-07-28 17:26:21,735 : INFO : PROGRESS: at sentence #530000, processed 11847480 words, keeping 103400 word types\n",
      "2019-07-28 17:26:21,778 : INFO : PROGRESS: at sentence #540000, processed 12072095 words, keeping 104265 word types\n",
      "2019-07-28 17:26:21,820 : INFO : PROGRESS: at sentence #550000, processed 12297646 words, keeping 105133 word types\n",
      "2019-07-28 17:26:21,864 : INFO : PROGRESS: at sentence #560000, processed 12518936 words, keeping 105997 word types\n",
      "2019-07-28 17:26:21,907 : INFO : PROGRESS: at sentence #570000, processed 12748083 words, keeping 106787 word types\n",
      "2019-07-28 17:26:21,948 : INFO : PROGRESS: at sentence #580000, processed 12969579 words, keeping 107665 word types\n",
      "2019-07-28 17:26:21,989 : INFO : PROGRESS: at sentence #590000, processed 13195103 words, keeping 108502 word types\n",
      "2019-07-28 17:26:22,031 : INFO : PROGRESS: at sentence #600000, processed 13417301 words, keeping 109219 word types\n",
      "2019-07-28 17:26:22,073 : INFO : PROGRESS: at sentence #610000, processed 13638324 words, keeping 110093 word types\n",
      "2019-07-28 17:26:22,116 : INFO : PROGRESS: at sentence #620000, processed 13864649 words, keeping 110838 word types\n",
      "2019-07-28 17:26:22,158 : INFO : PROGRESS: at sentence #630000, processed 14088935 words, keeping 111611 word types\n",
      "2019-07-28 17:26:22,201 : INFO : PROGRESS: at sentence #640000, processed 14309718 words, keeping 112417 word types\n",
      "2019-07-28 17:26:22,244 : INFO : PROGRESS: at sentence #650000, processed 14535474 words, keeping 113197 word types\n",
      "2019-07-28 17:26:22,288 : INFO : PROGRESS: at sentence #660000, processed 14758264 words, keeping 113946 word types\n",
      "2019-07-28 17:26:22,331 : INFO : PROGRESS: at sentence #670000, processed 14981657 words, keeping 114644 word types\n",
      "2019-07-28 17:26:22,374 : INFO : PROGRESS: at sentence #680000, processed 15206489 words, keeping 115355 word types\n",
      "2019-07-28 17:26:22,417 : INFO : PROGRESS: at sentence #690000, processed 15428682 words, keeping 116132 word types\n",
      "2019-07-28 17:26:22,464 : INFO : PROGRESS: at sentence #700000, processed 15657388 words, keeping 116944 word types\n",
      "2019-07-28 17:26:22,507 : INFO : PROGRESS: at sentence #710000, processed 15880377 words, keeping 117597 word types\n",
      "2019-07-28 17:26:22,553 : INFO : PROGRESS: at sentence #720000, processed 16105664 words, keeping 118222 word types\n",
      "2019-07-28 17:26:22,598 : INFO : PROGRESS: at sentence #730000, processed 16332045 words, keeping 118955 word types\n",
      "2019-07-28 17:26:22,640 : INFO : PROGRESS: at sentence #740000, processed 16553078 words, keeping 119669 word types\n",
      "2019-07-28 17:26:22,682 : INFO : PROGRESS: at sentence #750000, processed 16771405 words, keeping 120296 word types\n",
      "2019-07-28 17:26:22,725 : INFO : PROGRESS: at sentence #760000, processed 16990809 words, keeping 120931 word types\n",
      "2019-07-28 17:26:22,770 : INFO : PROGRESS: at sentence #770000, processed 17217946 words, keeping 121704 word types\n"
     ]
    },
    {
     "name": "stderr",
     "output_type": "stream",
     "text": [
      "2019-07-28 17:26:22,815 : INFO : PROGRESS: at sentence #780000, processed 17448092 words, keeping 122403 word types\n",
      "2019-07-28 17:26:22,859 : INFO : PROGRESS: at sentence #790000, processed 17675168 words, keeping 123067 word types\n",
      "2019-07-28 17:26:22,883 : INFO : collected 123505 word types from a corpus of 17798269 raw words and 795538 sentences\n",
      "2019-07-28 17:26:22,884 : INFO : Loading a fresh vocabulary\n",
      "2019-07-28 17:26:22,955 : INFO : effective_min_count=40 retains 16490 unique words (13% of original 123505, drops 107015)\n",
      "2019-07-28 17:26:22,956 : INFO : effective_min_count=40 leaves 17239123 word corpus (96% of original 17798269, drops 559146)\n",
      "2019-07-28 17:26:22,998 : INFO : deleting the raw counts dictionary of 123505 items\n",
      "2019-07-28 17:26:23,001 : INFO : sample=0.001 downsamples 48 most-common words\n",
      "2019-07-28 17:26:23,002 : INFO : downsampling leaves estimated 12749797 word corpus (74.0% of prior 17239123)\n",
      "2019-07-28 17:26:23,042 : INFO : estimated required memory for 16490 words and 300 dimensions: 47821000 bytes\n",
      "2019-07-28 17:26:23,043 : INFO : resetting layer weights\n",
      "2019-07-28 17:26:25,833 : INFO : training model with 4 workers on 16490 vocabulary and 300 features, using sg=0 hs=0 sample=0.001 negative=5 window=10\n",
      "2019-07-28 17:26:26,844 : INFO : EPOCH 1 - PROGRESS: at 8.94% examples, 1131462 words/s, in_qsize 7, out_qsize 0\n",
      "2019-07-28 17:26:27,845 : INFO : EPOCH 1 - PROGRESS: at 19.44% examples, 1226547 words/s, in_qsize 7, out_qsize 0\n",
      "2019-07-28 17:26:28,847 : INFO : EPOCH 1 - PROGRESS: at 29.36% examples, 1238965 words/s, in_qsize 7, out_qsize 0\n",
      "2019-07-28 17:26:29,848 : INFO : EPOCH 1 - PROGRESS: at 39.70% examples, 1255873 words/s, in_qsize 7, out_qsize 0\n",
      "2019-07-28 17:26:30,848 : INFO : EPOCH 1 - PROGRESS: at 49.94% examples, 1267717 words/s, in_qsize 7, out_qsize 0\n",
      "2019-07-28 17:26:31,849 : INFO : EPOCH 1 - PROGRESS: at 60.69% examples, 1286109 words/s, in_qsize 7, out_qsize 0\n",
      "2019-07-28 17:26:32,850 : INFO : EPOCH 1 - PROGRESS: at 71.43% examples, 1298465 words/s, in_qsize 7, out_qsize 0\n",
      "2019-07-28 17:26:33,852 : INFO : EPOCH 1 - PROGRESS: at 82.38% examples, 1310160 words/s, in_qsize 7, out_qsize 0\n",
      "2019-07-28 17:26:34,852 : INFO : EPOCH 1 - PROGRESS: at 93.12% examples, 1317212 words/s, in_qsize 7, out_qsize 0\n",
      "2019-07-28 17:26:35,473 : INFO : worker thread finished; awaiting finish of 3 more threads\n",
      "2019-07-28 17:26:35,479 : INFO : worker thread finished; awaiting finish of 2 more threads\n",
      "2019-07-28 17:26:35,483 : INFO : worker thread finished; awaiting finish of 1 more threads\n",
      "2019-07-28 17:26:35,487 : INFO : worker thread finished; awaiting finish of 0 more threads\n",
      "2019-07-28 17:26:35,487 : INFO : EPOCH - 1 : training on 17798269 raw words (12751869 effective words) took 9.6s, 1321690 effective words/s\n",
      "2019-07-28 17:26:36,494 : INFO : EPOCH 2 - PROGRESS: at 10.53% examples, 1335445 words/s, in_qsize 7, out_qsize 0\n",
      "2019-07-28 17:26:37,497 : INFO : EPOCH 2 - PROGRESS: at 21.40% examples, 1352398 words/s, in_qsize 7, out_qsize 0\n",
      "2019-07-28 17:26:38,501 : INFO : EPOCH 2 - PROGRESS: at 32.29% examples, 1359774 words/s, in_qsize 7, out_qsize 0\n",
      "2019-07-28 17:26:39,503 : INFO : EPOCH 2 - PROGRESS: at 42.92% examples, 1358911 words/s, in_qsize 7, out_qsize 0\n",
      "2019-07-28 17:26:40,506 : INFO : EPOCH 2 - PROGRESS: at 53.72% examples, 1362341 words/s, in_qsize 7, out_qsize 0\n",
      "2019-07-28 17:26:41,507 : INFO : EPOCH 2 - PROGRESS: at 64.38% examples, 1363688 words/s, in_qsize 7, out_qsize 0\n",
      "2019-07-28 17:26:42,508 : INFO : EPOCH 2 - PROGRESS: at 75.08% examples, 1364073 words/s, in_qsize 7, out_qsize 0\n",
      "2019-07-28 17:26:43,515 : INFO : EPOCH 2 - PROGRESS: at 85.85% examples, 1364057 words/s, in_qsize 7, out_qsize 0\n",
      "2019-07-28 17:26:44,516 : INFO : EPOCH 2 - PROGRESS: at 96.47% examples, 1362536 words/s, in_qsize 7, out_qsize 0\n",
      "2019-07-28 17:26:44,841 : INFO : worker thread finished; awaiting finish of 3 more threads\n",
      "2019-07-28 17:26:44,845 : INFO : worker thread finished; awaiting finish of 2 more threads\n",
      "2019-07-28 17:26:44,855 : INFO : worker thread finished; awaiting finish of 1 more threads\n",
      "2019-07-28 17:26:44,857 : INFO : worker thread finished; awaiting finish of 0 more threads\n",
      "2019-07-28 17:26:44,858 : INFO : EPOCH - 2 : training on 17798269 raw words (12750844 effective words) took 9.4s, 1361646 effective words/s\n",
      "2019-07-28 17:26:45,868 : INFO : EPOCH 3 - PROGRESS: at 10.64% examples, 1345008 words/s, in_qsize 7, out_qsize 0\n",
      "2019-07-28 17:26:46,870 : INFO : EPOCH 3 - PROGRESS: at 21.35% examples, 1346603 words/s, in_qsize 7, out_qsize 0\n",
      "2019-07-28 17:26:47,875 : INFO : EPOCH 3 - PROGRESS: at 32.02% examples, 1346098 words/s, in_qsize 7, out_qsize 0\n",
      "2019-07-28 17:26:48,876 : INFO : EPOCH 3 - PROGRESS: at 42.52% examples, 1345364 words/s, in_qsize 7, out_qsize 0\n",
      "2019-07-28 17:26:49,883 : INFO : EPOCH 3 - PROGRESS: at 52.94% examples, 1340639 words/s, in_qsize 7, out_qsize 0\n",
      "2019-07-28 17:26:50,886 : INFO : EPOCH 3 - PROGRESS: at 63.16% examples, 1335654 words/s, in_qsize 7, out_qsize 0\n",
      "2019-07-28 17:26:51,891 : INFO : EPOCH 3 - PROGRESS: at 73.44% examples, 1331981 words/s, in_qsize 7, out_qsize 0\n",
      "2019-07-28 17:26:52,894 : INFO : EPOCH 3 - PROGRESS: at 83.78% examples, 1329538 words/s, in_qsize 7, out_qsize 0\n",
      "2019-07-28 17:26:53,899 : INFO : EPOCH 3 - PROGRESS: at 94.10% examples, 1327274 words/s, in_qsize 7, out_qsize 0\n",
      "2019-07-28 17:26:54,456 : INFO : worker thread finished; awaiting finish of 3 more threads\n",
      "2019-07-28 17:26:54,466 : INFO : worker thread finished; awaiting finish of 2 more threads\n",
      "2019-07-28 17:26:54,470 : INFO : worker thread finished; awaiting finish of 1 more threads\n",
      "2019-07-28 17:26:54,473 : INFO : worker thread finished; awaiting finish of 0 more threads\n",
      "2019-07-28 17:26:54,473 : INFO : EPOCH - 3 : training on 17798269 raw words (12750518 effective words) took 9.6s, 1326767 effective words/s\n",
      "2019-07-28 17:26:55,483 : INFO : EPOCH 4 - PROGRESS: at 10.26% examples, 1295329 words/s, in_qsize 7, out_qsize 0\n",
      "2019-07-28 17:26:56,484 : INFO : EPOCH 4 - PROGRESS: at 20.56% examples, 1297708 words/s, in_qsize 7, out_qsize 0\n",
      "2019-07-28 17:26:57,489 : INFO : EPOCH 4 - PROGRESS: at 30.86% examples, 1299184 words/s, in_qsize 7, out_qsize 0\n",
      "2019-07-28 17:26:58,489 : INFO : EPOCH 4 - PROGRESS: at 41.09% examples, 1299501 words/s, in_qsize 7, out_qsize 0\n",
      "2019-07-28 17:26:59,491 : INFO : EPOCH 4 - PROGRESS: at 51.19% examples, 1297953 words/s, in_qsize 7, out_qsize 0\n",
      "2019-07-28 17:27:00,492 : INFO : EPOCH 4 - PROGRESS: at 61.18% examples, 1295745 words/s, in_qsize 8, out_qsize 0\n",
      "2019-07-28 17:27:01,494 : INFO : EPOCH 4 - PROGRESS: at 71.10% examples, 1291183 words/s, in_qsize 7, out_qsize 0\n",
      "2019-07-28 17:27:02,497 : INFO : EPOCH 4 - PROGRESS: at 80.87% examples, 1284917 words/s, in_qsize 7, out_qsize 0\n",
      "2019-07-28 17:27:03,499 : INFO : EPOCH 4 - PROGRESS: at 90.31% examples, 1276232 words/s, in_qsize 7, out_qsize 0\n",
      "2019-07-28 17:27:04,480 : INFO : worker thread finished; awaiting finish of 3 more threads\n",
      "2019-07-28 17:27:04,485 : INFO : worker thread finished; awaiting finish of 2 more threads\n",
      "2019-07-28 17:27:04,489 : INFO : worker thread finished; awaiting finish of 1 more threads\n",
      "2019-07-28 17:27:04,492 : INFO : worker thread finished; awaiting finish of 0 more threads\n",
      "2019-07-28 17:27:04,493 : INFO : EPOCH - 4 : training on 17798269 raw words (12748358 effective words) took 10.0s, 1273028 effective words/s\n",
      "2019-07-28 17:27:05,502 : INFO : EPOCH 5 - PROGRESS: at 9.34% examples, 1183112 words/s, in_qsize 7, out_qsize 0\n",
      "2019-07-28 17:27:06,502 : INFO : EPOCH 5 - PROGRESS: at 18.81% examples, 1188885 words/s, in_qsize 7, out_qsize 0\n",
      "2019-07-28 17:27:07,504 : INFO : EPOCH 5 - PROGRESS: at 28.37% examples, 1196903 words/s, in_qsize 7, out_qsize 0\n",
      "2019-07-28 17:27:08,504 : INFO : EPOCH 5 - PROGRESS: at 37.84% examples, 1197832 words/s, in_qsize 7, out_qsize 0\n",
      "2019-07-28 17:27:09,508 : INFO : EPOCH 5 - PROGRESS: at 47.39% examples, 1202100 words/s, in_qsize 7, out_qsize 0\n",
      "2019-07-28 17:27:10,508 : INFO : EPOCH 5 - PROGRESS: at 56.93% examples, 1205442 words/s, in_qsize 7, out_qsize 0\n",
      "2019-07-28 17:27:11,509 : INFO : EPOCH 5 - PROGRESS: at 66.50% examples, 1208773 words/s, in_qsize 7, out_qsize 0\n",
      "2019-07-28 17:27:12,514 : INFO : EPOCH 5 - PROGRESS: at 76.10% examples, 1209804 words/s, in_qsize 7, out_qsize 0\n"
     ]
    },
    {
     "name": "stderr",
     "output_type": "stream",
     "text": [
      "2019-07-28 17:27:13,518 : INFO : EPOCH 5 - PROGRESS: at 85.34% examples, 1205949 words/s, in_qsize 7, out_qsize 0\n",
      "2019-07-28 17:27:14,519 : INFO : EPOCH 5 - PROGRESS: at 94.15% examples, 1197512 words/s, in_qsize 7, out_qsize 0\n",
      "2019-07-28 17:27:15,139 : INFO : worker thread finished; awaiting finish of 3 more threads\n",
      "2019-07-28 17:27:15,143 : INFO : worker thread finished; awaiting finish of 2 more threads\n",
      "2019-07-28 17:27:15,148 : INFO : worker thread finished; awaiting finish of 1 more threads\n",
      "2019-07-28 17:27:15,156 : INFO : worker thread finished; awaiting finish of 0 more threads\n",
      "2019-07-28 17:27:15,157 : INFO : EPOCH - 5 : training on 17798269 raw words (12749026 effective words) took 10.7s, 1196283 effective words/s\n",
      "2019-07-28 17:27:15,157 : INFO : training on a 88991345 raw words (63750615 effective words) took 49.3s, 1292533 effective words/s\n",
      "2019-07-28 17:27:15,158 : INFO : precomputing L2-norms of word weight vectors\n",
      "2019-07-28 17:27:15,180 : INFO : saving Word2Vec object under 300features_40minwords_10context, separately None\n",
      "2019-07-28 17:27:15,180 : INFO : not storing attribute vectors_norm\n",
      "2019-07-28 17:27:15,181 : INFO : not storing attribute cum_table\n",
      "2019-07-28 17:27:15,565 : INFO : saved 300features_40minwords_10context\n"
     ]
    }
   ],
   "source": [
    "# Import the built-in logging module and configure it so that Word2Vec \n",
    "# creates nice output messages\n",
    "import logging\n",
    "logging.basicConfig(format='%(asctime)s : %(levelname)s : %(message)s',\\\n",
    "    level=logging.INFO)\n",
    "\n",
    "# Set values for various parameters\n",
    "num_features = 300    # Word vector dimensionality                      \n",
    "min_word_count = 40   # Minimum word count                        \n",
    "num_workers = 4       # Number of threads to run in parallel\n",
    "context = 10          # Context window size                                                                                    \n",
    "downsampling = 1e-3   # Downsample setting for frequent words\n",
    "\n",
    "# Initialize and train the model (this will take some time)\n",
    "from gensim.models import word2vec\n",
    "print(\"Training model...\")\n",
    "model = word2vec.Word2Vec(sentences, workers=num_workers, \\\n",
    "            size=num_features, min_count = min_word_count, \\\n",
    "            window = context, sample = downsampling)\n",
    "\n",
    "# If you don't plan to train the model any further, calling \n",
    "# init_sims will make the model much more memory-efficient.\n",
    "model.init_sims(replace=True)\n",
    "\n",
    "# It can be helpful to create a meaningful model name and \n",
    "# save the model for later use. You can load it later using Word2Vec.load()\n",
    "model_name = \"300features_40minwords_10context\"\n",
    "model.save(model_name)"
   ]
  },
  {
   "cell_type": "code",
   "execution_count": 13,
   "metadata": {},
   "outputs": [
    {
     "name": "stderr",
     "output_type": "stream",
     "text": [
      "/Users/kshitij/Desktop/kaggle/kaggle-practice/env/lib/python3.7/site-packages/ipykernel_launcher.py:1: DeprecationWarning: Call to deprecated `doesnt_match` (Method will be removed in 4.0.0, use self.wv.doesnt_match() instead).\n",
      "  \"\"\"Entry point for launching an IPython kernel.\n",
      "/Users/kshitij/Desktop/kaggle/kaggle-practice/env/lib/python3.7/site-packages/gensim/models/keyedvectors.py:877: FutureWarning: arrays to stack must be passed as a \"sequence\" type such as list or tuple. Support for non-sequence iterables such as generators is deprecated as of NumPy 1.16 and will raise an error in the future.\n",
      "  vectors = vstack(self.word_vec(word, use_norm=True) for word in used_words).astype(REAL)\n"
     ]
    },
    {
     "data": {
      "text/plain": [
       "'kitchen'"
      ]
     },
     "execution_count": 13,
     "metadata": {},
     "output_type": "execute_result"
    }
   ],
   "source": [
    "model.doesnt_match(\"man woman child kitchen\".split())"
   ]
  },
  {
   "cell_type": "code",
   "execution_count": 14,
   "metadata": {},
   "outputs": [
    {
     "name": "stderr",
     "output_type": "stream",
     "text": [
      "/Users/kshitij/Desktop/kaggle/kaggle-practice/env/lib/python3.7/site-packages/ipykernel_launcher.py:1: DeprecationWarning: Call to deprecated `doesnt_match` (Method will be removed in 4.0.0, use self.wv.doesnt_match() instead).\n",
      "  \"\"\"Entry point for launching an IPython kernel.\n"
     ]
    },
    {
     "data": {
      "text/plain": [
       "'berlin'"
      ]
     },
     "execution_count": 14,
     "metadata": {},
     "output_type": "execute_result"
    }
   ],
   "source": [
    "model.doesnt_match(\"france england germany berlin\".split())"
   ]
  },
  {
   "cell_type": "code",
   "execution_count": 15,
   "metadata": {},
   "outputs": [
    {
     "name": "stderr",
     "output_type": "stream",
     "text": [
      "/Users/kshitij/Desktop/kaggle/kaggle-practice/env/lib/python3.7/site-packages/ipykernel_launcher.py:1: DeprecationWarning: Call to deprecated `doesnt_match` (Method will be removed in 4.0.0, use self.wv.doesnt_match() instead).\n",
      "  \"\"\"Entry point for launching an IPython kernel.\n"
     ]
    },
    {
     "data": {
      "text/plain": [
       "'paris'"
      ]
     },
     "execution_count": 15,
     "metadata": {},
     "output_type": "execute_result"
    }
   ],
   "source": [
    "model.doesnt_match(\"paris berlin london austria\".split())"
   ]
  },
  {
   "cell_type": "code",
   "execution_count": 16,
   "metadata": {},
   "outputs": [
    {
     "name": "stderr",
     "output_type": "stream",
     "text": [
      "/Users/kshitij/Desktop/kaggle/kaggle-practice/env/lib/python3.7/site-packages/ipykernel_launcher.py:1: DeprecationWarning: Call to deprecated `most_similar` (Method will be removed in 4.0.0, use self.wv.most_similar() instead).\n",
      "  \"\"\"Entry point for launching an IPython kernel.\n"
     ]
    },
    {
     "data": {
      "text/plain": [
       "[('woman', 0.6157339811325073),\n",
       " ('lady', 0.5747684240341187),\n",
       " ('lad', 0.560234546661377),\n",
       " ('men', 0.524324357509613),\n",
       " ('monk', 0.5216001868247986),\n",
       " ('millionaire', 0.5119434595108032),\n",
       " ('guy', 0.5102024674415588),\n",
       " ('businessman', 0.4984987676143646),\n",
       " ('poet', 0.49637120962142944),\n",
       " ('chap', 0.49499279260635376)]"
      ]
     },
     "execution_count": 16,
     "metadata": {},
     "output_type": "execute_result"
    }
   ],
   "source": [
    "model.most_similar(\"man\")"
   ]
  },
  {
   "cell_type": "code",
   "execution_count": 18,
   "metadata": {},
   "outputs": [
    {
     "name": "stderr",
     "output_type": "stream",
     "text": [
      "/Users/kshitij/Desktop/kaggle/kaggle-practice/env/lib/python3.7/site-packages/ipykernel_launcher.py:1: DeprecationWarning: Call to deprecated `most_similar` (Method will be removed in 4.0.0, use self.wv.most_similar() instead).\n",
      "  \"\"\"Entry point for launching an IPython kernel.\n"
     ]
    },
    {
     "data": {
      "text/plain": [
       "[('terrible', 0.7747534513473511),\n",
       " ('horrible', 0.7304965257644653),\n",
       " ('atrocious', 0.726999044418335),\n",
       " ('abysmal', 0.7137743234634399),\n",
       " ('dreadful', 0.7017510533332825),\n",
       " ('horrendous', 0.6809265613555908),\n",
       " ('appalling', 0.6632950305938721),\n",
       " ('horrid', 0.6555044651031494),\n",
       " ('lousy', 0.6294952630996704),\n",
       " ('laughable', 0.6090008020401001)]"
      ]
     },
     "execution_count": 18,
     "metadata": {},
     "output_type": "execute_result"
    }
   ],
   "source": [
    "model.most_similar(\"awful\")"
   ]
  },
  {
   "cell_type": "code",
   "execution_count": null,
   "metadata": {},
   "outputs": [],
   "source": []
  }
 ],
 "metadata": {
  "kernelspec": {
   "display_name": "Python 3",
   "language": "python",
   "name": "python3"
  },
  "language_info": {
   "codemirror_mode": {
    "name": "ipython",
    "version": 3
   },
   "file_extension": ".py",
   "mimetype": "text/x-python",
   "name": "python",
   "nbconvert_exporter": "python",
   "pygments_lexer": "ipython3",
   "version": "3.7.4"
  }
 },
 "nbformat": 4,
 "nbformat_minor": 2
}
